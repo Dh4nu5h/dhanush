{
  "nbformat": 4,
  "nbformat_minor": 0,
  "metadata": {
    "colab": {
      "provenance": []
    },
    "kernelspec": {
      "name": "python3",
      "display_name": "Python 3"
    },
    "language_info": {
      "name": "python"
    }
  },
  "cells": [
    {
      "cell_type": "code",
      "execution_count": 1,
      "metadata": {
        "id": "lWuqnh9CQBH9"
      },
      "outputs": [],
      "source": [
        "import pandas as pd"
      ]
    },
    {
      "cell_type": "code",
      "source": [
        "#Read the csv file\n",
        "df = pd.read_csv('/dataset1.csv')"
      ],
      "metadata": {
        "id": "qL3j_hJIQYFj"
      },
      "execution_count": 8,
      "outputs": []
    },
    {
      "cell_type": "code",
      "source": [
        "#Checking for any missing values\n",
        "missing_values = df.isnull().sum()\n",
        "print(\"Missing values:\\n\", missing_values)"
      ],
      "metadata": {
        "colab": {
          "base_uri": "https://localhost:8080/"
        },
        "id": "D1Mw0PsaQucb",
        "outputId": "49a51378-51fc-44cd-f62c-ed9d1c9c71bc"
      },
      "execution_count": 6,
      "outputs": [
        {
          "output_type": "stream",
          "name": "stdout",
          "text": [
            "Missing values:\n",
            " Index          0\n",
            "Age            7\n",
            "Salary         0\n",
            "Rating         1\n",
            "Location       0\n",
            "Established    0\n",
            "Easy Apply     0\n",
            "dtype: int64\n"
          ]
        }
      ]
    },
    {
      "cell_type": "code",
      "source": [
        "#Replacing missing values with the mode\n",
        "categorical_columns = df.select_dtypes(include='object').columns\n",
        "df[categorical_columns] = df[categorical_columns].fillna(df[categorical_columns].mode().iloc[0])"
      ],
      "metadata": {
        "id": "FUUjCVwrRVFs"
      },
      "execution_count": 9,
      "outputs": []
    },
    {
      "cell_type": "code",
      "source": [
        "#Rechecking for missing values\n",
        "missing_values_after_handling = df.isnull().sum()\n",
        "print(\"Missing values after handling:\\n\", missing_values_after_handling)"
      ],
      "metadata": {
        "colab": {
          "base_uri": "https://localhost:8080/"
        },
        "id": "BaPAL59hRpd9",
        "outputId": "99792151-b17a-4285-e306-5244cf47e382"
      },
      "execution_count": 10,
      "outputs": [
        {
          "output_type": "stream",
          "name": "stdout",
          "text": [
            "Missing values after handling:\n",
            " Index          0\n",
            "Age            7\n",
            "Salary         0\n",
            "Rating         1\n",
            "Location       0\n",
            "Established    0\n",
            "Easy Apply     0\n",
            "dtype: int64\n"
          ]
        }
      ]
    },
    {
      "cell_type": "code",
      "source": [
        "# Display the data types of each column\n",
        "data_types = df.dtypes\n",
        "print(\"Data types:\\n\", data_types)"
      ],
      "metadata": {
        "colab": {
          "base_uri": "https://localhost:8080/"
        },
        "id": "ToD4erACR0ZY",
        "outputId": "1a501fba-1ad0-48c6-8758-3c04f55d3e2f"
      },
      "execution_count": 11,
      "outputs": [
        {
          "output_type": "stream",
          "name": "stdout",
          "text": [
            "Data types:\n",
            " Index            int64\n",
            "Age            float64\n",
            "Salary          object\n",
            "Rating         float64\n",
            "Location        object\n",
            "Established      int64\n",
            "Easy Apply      object\n",
            "dtype: object\n"
          ]
        }
      ]
    },
    {
      "cell_type": "code",
      "source": [
        "# Remove \"$\" from the \"Salary\" column and convert it to numeric\n",
        "df['Salary'] = pd.to_numeric(df['Salary'].replace('[\\$,]', '', regex=True), errors='coerce')\n",
        "# Display data types after the conversion\n",
        "data_types_after_conversion = df.dtypes\n",
        "print(\"Data types after conversion:\\n\", data_types_after_conversion)\n"
      ],
      "metadata": {
        "colab": {
          "base_uri": "https://localhost:8080/"
        },
        "id": "c_l8NzCvTLFM",
        "outputId": "f10361fd-ffe2-4e1a-b4d2-a7ec76d92ff0"
      },
      "execution_count": 22,
      "outputs": [
        {
          "output_type": "stream",
          "name": "stdout",
          "text": [
            "Data types after conversion:\n",
            " Index            int64\n",
            "Age            float64\n",
            "Salary         float64\n",
            "Rating         float64\n",
            "Location        object\n",
            "Established      int64\n",
            "Easy Apply      object\n",
            "dtype: object\n"
          ]
        }
      ]
    },
    {
      "cell_type": "code",
      "source": [
        "import pandas as pd\n",
        "import seaborn as sns\n",
        "import matplotlib.pyplot as plt\n",
        "from scipy.stats import zscore\n",
        "import numpy as np\n"
      ],
      "metadata": {
        "id": "zQwb8nwlR8nx"
      },
      "execution_count": 26,
      "outputs": []
    },
    {
      "cell_type": "code",
      "source": [
        "# Visualize the distribution of specific numerical indicators using box plots\n",
        "columns_of_interest = [\"Age\", \"Salary\", \"Rating\"]\n",
        "\n",
        "plt.figure(figsize=(12, 6))\n",
        "sns.boxplot(data=df[columns_of_interest])\n",
        "plt.title(\"Box Plot of Age, Salary, and Rating\")\n",
        "plt.show()\n"
      ],
      "metadata": {
        "colab": {
          "base_uri": "https://localhost:8080/",
          "height": 481
        },
        "id": "swnBW0bPSJdh",
        "outputId": "a0479ccc-46d9-4362-edbc-ea8bcad32ffc"
      },
      "execution_count": 16,
      "outputs": [
        {
          "output_type": "display_data",
          "data": {
            "text/plain": [
              "<Figure size 1200x600 with 1 Axes>"
            ],
            "image/png": "[encoded data removed]"
          },
          "metadata": {}
        }
      ]
    },
    {
      "cell_type": "code",
      "source": [
        "# Calculate z-scores for specific numerical columns\n",
        "z_scores = zscore(df[columns_of_interest])\n",
        "\n",
        "# Define a threshold for identifying outliers (e.g., z-score > 3 or z-score < -3)\n",
        "outlier_threshold = 3\n",
        "outliers = (abs(z_scores) > outlier_threshold).any(axis=1)\n",
        "\n",
        "# Display rows with potential outliers\n",
        "potential_outliers = df[outliers]\n",
        "print(\"Potential Outliers:\\n\", potential_outliers)\n"
      ],
      "metadata": {
        "colab": {
          "base_uri": "https://localhost:8080/"
        },
        "id": "sa94sEVJSz3m",
        "outputId": "a14873c8-8e09-43b5-9c6a-bd061e4d94b3"
      },
      "execution_count": 23,
      "outputs": [
        {
          "output_type": "stream",
          "name": "stdout",
          "text": [
            "Potential Outliers:\n",
            " Empty DataFrame\n",
            "Columns: [Index, Age, Salary, Rating, Location, Established, Easy Apply]\n",
            "Index: []\n"
          ]
        }
      ]
    },
    {
      "cell_type": "code",
      "source": [
        "# Remove rows containing outliers\n",
        "df_no_outliers = df[~outliers]\n"
      ],
      "metadata": {
        "id": "Njq9TuMcTgbQ"
      },
      "execution_count": 24,
      "outputs": []
    },
    {
      "cell_type": "code",
      "source": [
        "# Visualize the distribution of specific numerical indicators after handling outliers\n",
        "plt.figure(figsize=(12, 6))\n",
        "sns.boxplot(data=df_no_outliers[columns_of_interest])\n",
        "plt.title(\"Box Plot of Age, Salary, and Rating (Outliers Removed)\")\n",
        "plt.show()"
      ],
      "metadata": {
        "colab": {
          "base_uri": "https://localhost:8080/",
          "height": 481
        },
        "id": "7RV_Xg__Tmpf",
        "outputId": "ec6e584a-aed7-498c-c588-aef173a6f753"
      },
      "execution_count": 28,
      "outputs": [
        {
          "output_type": "display_data",
          "data": {
            "text/plain": [
              "<Figure size 1200x600 with 1 Axes>"
            ],
            "image/png": "[encoded data removed]"
          },
          "metadata": {}
        }
      ]
    },
    {
      "cell_type": "code",
      "source": [
        "# Display unique values in the \"Location\" column\n",
        "unique_locations = df['Location'].unique()\n",
        "print(\"Unique Locations:\\n\", unique_locations)\n"
      ],
      "metadata": {
        "colab": {
          "base_uri": "https://localhost:8080/"
        },
        "id": "z8kzkzb9T4IR",
        "outputId": "2713d122-bcac-4272-903f-fd349fb847bc"
      },
      "execution_count": 29,
      "outputs": [
        {
          "output_type": "stream",
          "name": "stdout",
          "text": [
            "Unique Locations:\n",
            " ['India,In' 'New York,Ny' 'India In' 'Australia Aus']\n"
          ]
        }
      ]
    },
    {
      "cell_type": "code",
      "source": [
        "# Standardize the \"Location\" column to uppercase\n",
        "df['Location'] = df['Location'].str.upper()\n"
      ],
      "metadata": {
        "id": "Wq8GUnFCUJN3"
      },
      "execution_count": 30,
      "outputs": []
    },
    {
      "cell_type": "code",
      "source": [
        "# Remove leading and trailing whitespaces from the \"Location\" column\n",
        "df['Location'] = df['Location'].str.strip()\n"
      ],
      "metadata": {
        "id": "bMGHt8DGUMrs"
      },
      "execution_count": 31,
      "outputs": []
    },
    {
      "cell_type": "code",
      "source": [
        "# Display unique values in the \"Location\" column after standardization\n",
        "unique_locations_after_standardization = df['Location'].unique()\n",
        "print(\"Unique Locations after Standardization:\\n\", unique_locations_after_standardization)"
      ],
      "metadata": {
        "colab": {
          "base_uri": "https://localhost:8080/"
        },
        "id": "chR1tVFAUQn3",
        "outputId": "733a693c-6f0c-4df5-82e4-373b9ff5e9ba"
      },
      "execution_count": 32,
      "outputs": [
        {
          "output_type": "stream",
          "name": "stdout",
          "text": [
            "Unique Locations after Standardization:\n",
            " ['INDIA,IN' 'NEW YORK,NY' 'INDIA IN' 'AUSTRALIA AUS']\n"
          ]
        }
      ]
    },
    {
      "cell_type": "code",
      "source": [
        "# Display unique values and basic statistics for the \"Established\" column\n",
        "established_info = df['Established'].describe()\n",
        "print(\"Established Column Info:\\n\", established_info)\n"
      ],
      "metadata": {
        "colab": {
          "base_uri": "https://localhost:8080/"
        },
        "id": "SzM5nbwcUUH8",
        "outputId": "cebf54ad-5159-4be6-e585-5467d1a871cb"
      },
      "execution_count": 33,
      "outputs": [
        {
          "output_type": "stream",
          "name": "stdout",
          "text": [
            "Established Column Info:\n",
            " count      29.000000\n",
            "mean     1638.620690\n",
            "std       762.079599\n",
            "min        -1.000000\n",
            "25%      1935.000000\n",
            "50%      1984.000000\n",
            "75%      1999.000000\n",
            "max      2020.000000\n",
            "Name: Established, dtype: float64\n"
          ]
        }
      ]
    },
    {
      "cell_type": "code",
      "source": [
        "# Visualize the distribution of numeric values in the \"Established\" column\n",
        "plt.figure(figsize=(8, 5))\n",
        "sns.boxplot(x=df['Established'].astype(float))\n",
        "plt.title(\"Box Plot of Established Column\")\n",
        "plt.show()\n"
      ],
      "metadata": {
        "colab": {
          "base_uri": "https://localhost:8080/",
          "height": 487
        },
        "id": "EbVfBt8kUgYf",
        "outputId": "fefb952f-c457-4c08-f4f6-272306afa5e3"
      },
      "execution_count": 35,
      "outputs": [
        {
          "output_type": "display_data",
          "data": {
            "text/plain": [
              "<Figure size 800x500 with 1 Axes>"
            ],
            "image/png": "[encoded data removed]"
          },
          "metadata": {}
        }
      ]
    },
    {
      "cell_type": "code",
      "source": [
        "# Display unique values and basic statistics for the \"Established\" column after handling\n",
        "established_info_after_handling = df['Established'].describe()\n",
        "print(\"Established Column Info after Handling:\\n\", established_info_after_handling)"
      ],
      "metadata": {
        "colab": {
          "base_uri": "https://localhost:8080/"
        },
        "id": "vWHYvrNMUqXg",
        "outputId": "38cf5796-3dd1-4f45-af5a-c307d0aefdac"
      },
      "execution_count": 38,
      "outputs": [
        {
          "output_type": "stream",
          "name": "stdout",
          "text": [
            "Established Column Info after Handling:\n",
            " count      29.000000\n",
            "mean     1638.620690\n",
            "std       762.079599\n",
            "min        -1.000000\n",
            "25%      1935.000000\n",
            "50%      1984.000000\n",
            "75%      1999.000000\n",
            "max      2020.000000\n",
            "Name: Established, dtype: float64\n"
          ]
        }
      ]
    },
    {
      "cell_type": "code",
      "source": [
        "# Display unique values and basic statistics for the \"Easy Apply\" column\n",
        "easy_apply_info = df['Easy Apply'].describe()\n",
        "print(\"Easy Apply Column Info:\\n\", easy_apply_info)\n"
      ],
      "metadata": {
        "colab": {
          "base_uri": "https://localhost:8080/"
        },
        "id": "ApMh8bHlU0FP",
        "outputId": "70e6d0bb-ab15-45a0-9608-9bdb6da2323a"
      },
      "execution_count": 39,
      "outputs": [
        {
          "output_type": "stream",
          "name": "stdout",
          "text": [
            "Easy Apply Column Info:\n",
            " count       29\n",
            "unique       2\n",
            "top       TRUE\n",
            "freq        15\n",
            "Name: Easy Apply, dtype: object\n"
          ]
        }
      ]
    },
    {
      "cell_type": "code",
      "source": [
        "# Display unique values in the \"Easy Apply\" column\n",
        "unique_values_easy_apply = df['Easy Apply'].unique()\n",
        "print(\"Unique Values in Easy Apply Column:\\n\", unique_values_easy_apply)\n"
      ],
      "metadata": {
        "colab": {
          "base_uri": "https://localhost:8080/"
        },
        "id": "onOk0G_HVDQ4",
        "outputId": "652b6ff5-0de7-406b-b524-ef08dc7a8f17"
      },
      "execution_count": 40,
      "outputs": [
        {
          "output_type": "stream",
          "name": "stdout",
          "text": [
            "Unique Values in Easy Apply Column:\n",
            " ['TRUE' '-1']\n"
          ]
        }
      ]
    },
    {
      "cell_type": "code",
      "source": [
        "# Convert the \"Easy Apply\" column to boolean\n",
        "df['Easy Apply'] = df['Easy Apply'].map({'True': True, 'False': False})\n"
      ],
      "metadata": {
        "id": "bBBGr5wnVF0m"
      },
      "execution_count": 41,
      "outputs": []
    },
    {
      "cell_type": "code",
      "source": [
        "# Convert the \"Easy Apply\" column to numeric (1 for True, 0 for False)\n",
        "df['Easy Apply'] = df['Easy Apply'].map({'True': 1, 'False': 0})\n"
      ],
      "metadata": {
        "id": "ODbMs36JVI3C"
      },
      "execution_count": 42,
      "outputs": []
    },
    {
      "cell_type": "code",
      "source": [
        "# Display unique values and basic statistics for the \"Easy Apply\" column after transformation\n",
        "easy_apply_info_after_transformation = df['Easy Apply'].describe()\n",
        "print(\"Easy Apply Column Info after Transformation:\\n\", easy_apply_info_after_transformation)\n"
      ],
      "metadata": {
        "colab": {
          "base_uri": "https://localhost:8080/"
        },
        "id": "pQogBTxlVKbi",
        "outputId": "68e8024e-91ca-49a9-96e2-00bdee096edc"
      },
      "execution_count": 43,
      "outputs": [
        {
          "output_type": "stream",
          "name": "stdout",
          "text": [
            "Easy Apply Column Info after Transformation:\n",
            " count    0.0\n",
            "mean     NaN\n",
            "std      NaN\n",
            "min      NaN\n",
            "25%      NaN\n",
            "50%      NaN\n",
            "75%      NaN\n",
            "max      NaN\n",
            "Name: Easy Apply, dtype: float64\n"
          ]
        }
      ]
    },
    {
      "cell_type": "code",
      "source": [
        "# Display unique values and basic statistics for the \"Rating\" column\n",
        "rating_info = df['Rating'].describe()\n",
        "print(\"Rating Column Info:\\n\", rating_info)\n",
        "\n",
        "# Visualize the distribution of numeric values in the \"Rating\" column\n",
        "plt.figure(figsize=(8, 5))\n",
        "sns.boxplot(x=df['Rating'].astype(float))\n",
        "plt.title(\"Box Plot of Rating Column\")\n",
        "plt.show()\n",
        "\n",
        "# Identify potential outliers in the \"Rating\" column\n",
        "Q1 = df['Rating'].quantile(0.25)\n",
        "Q3 = df['Rating'].quantile(0.75)\n",
        "IQR = Q3 - Q1\n",
        "\n",
        "# Define a threshold for identifying outliers (e.g., Q1 - 1.5 * IQR or Q3 + 1.5 * IQR)\n",
        "outlier_threshold = 1.5\n",
        "outliers = ((df['Rating'] < (Q1 - outlier_threshold * IQR)) | (df['Rating'] > (Q3 + outlier_threshold * IQR)))\n",
        "\n",
        "# Display rows with potential outliers in the \"Rating\" column\n",
        "potential_outliers = df[outliers]\n",
        "print(\"Potential Outliers in Rating Column:\\n\", potential_outliers[['Rating']])\n",
        "\n",
        "# Decide on handling strategy (e.g., removal, adjustment, transformation)\n",
        "\n",
        "# Example: Remove rows with outliers\n",
        "df_no_outliers = df[~outliers]\n",
        "\n",
        "# Verify changes\n",
        "rating_info_after_handling = df_no_outliers['Rating'].describe()\n",
        "print(\"Rating Column Info after Handling Outliers:\\n\", rating_info_after_handling)\n"
      ],
      "metadata": {
        "colab": {
          "base_uri": "https://localhost:8080/",
          "height": 903
        },
        "id": "GtloaV-EVPxr",
        "outputId": "c1d7ece8-3e63-4e92-b51c-2bfb26ed04c7"
      },
      "execution_count": 44,
      "outputs": [
        {
          "output_type": "stream",
          "name": "stdout",
          "text": [
            "Rating Column Info:\n",
            " count    28.000000\n",
            "mean      3.528571\n",
            "std       2.825133\n",
            "min      -1.000000\n",
            "25%       1.050000\n",
            "50%       4.200000\n",
            "75%       5.400000\n",
            "max       7.800000\n",
            "Name: Rating, dtype: float64\n"
          ]
        },
        {
          "output_type": "display_data",
          "data": {
            "text/plain": [
              "<Figure size 800x500 with 1 Axes>"
            ],
            "image/png": "[encoded data removed]"
          },
          "metadata": {}
        },
        {
          "output_type": "stream",
          "name": "stdout",
          "text": [
            "Potential Outliers in Rating Column:\n",
            " Empty DataFrame\n",
            "Columns: [Rating]\n",
            "Index: []\n",
            "Rating Column Info after Handling Outliers:\n",
            " count    28.000000\n",
            "mean      3.528571\n",
            "std       2.825133\n",
            "min      -1.000000\n",
            "25%       1.050000\n",
            "50%       4.200000\n",
            "75%       5.400000\n",
            "max       7.800000\n",
            "Name: Rating, dtype: float64\n"
          ]
        }
      ]
    },
    {
      "cell_type": "code",
      "source": [
        "# Display unique values and basic statistics for the \"Age\" column\n",
        "age_info = df['Age'].describe()\n",
        "print(\"Age Column Info:\\n\", age_info)\n",
        "\n",
        "# Visualize the distribution of numeric values in the \"Age\" column\n",
        "plt.figure(figsize=(8, 5))\n",
        "sns.histplot(df['Age'], bins=20, kde=True)\n",
        "plt.title(\"Distribution of Age Column\")\n",
        "plt.show()\n",
        "\n",
        "# Identify potential unusual entries in the \"Age\" column\n",
        "# Example: Consider entries outside a reasonable age range (e.g., 18-65)\n",
        "unusual_entries = df[(df['Age'] < 18) | (df['Age'] > 65)]\n",
        "print(\"Unusual Entries in Age Column:\\n\", unusual_entries[['Age']])\n",
        "\n",
        "# Consider the impact of unusual entries on analysis and decide on handling strategy\n",
        "\n",
        "# Example: Remove rows with unusual entries\n",
        "df_no_unusual_entries = df[(df['Age'] >= 18) & (df['Age'] <= 65)]\n",
        "\n",
        "# Verify changes\n",
        "age_info_after_handling = df_no_unusual_entries['Age'].describe()\n",
        "print(\"Age Column Info after Handling Unusual Entries:\\n\", age_info_after_handling)\n"
      ],
      "metadata": {
        "colab": {
          "base_uri": "https://localhost:8080/",
          "height": 921
        },
        "id": "bodbBJl1VP2x",
        "outputId": "ad9e3393-88c9-4f9b-b806-8ea88455099c"
      },
      "execution_count": 45,
      "outputs": [
        {
          "output_type": "stream",
          "name": "stdout",
          "text": [
            "Age Column Info:\n",
            " count    22.000000\n",
            "mean     39.045455\n",
            "std      16.134781\n",
            "min      13.000000\n",
            "25%      25.000000\n",
            "50%      39.500000\n",
            "75%      50.000000\n",
            "max      66.000000\n",
            "Name: Age, dtype: float64\n"
          ]
        },
        {
          "output_type": "display_data",
          "data": {
            "text/plain": [
              "<Figure size 800x500 with 1 Axes>"
            ],
            "image/png": "[encoded data removed]"
          },
          "metadata": {}
        },
        {
          "output_type": "stream",
          "name": "stdout",
          "text": [
            "Unusual Entries in Age Column:\n",
            "      Age\n",
            "1   66.0\n",
            "14  66.0\n",
            "24  13.0\n",
            "Age Column Info after Handling Unusual Entries:\n",
            " count    19.000000\n",
            "mean     37.578947\n",
            "std      13.529046\n",
            "min      19.000000\n",
            "25%      25.000000\n",
            "50%      35.000000\n",
            "75%      44.000000\n",
            "max      64.000000\n",
            "Name: Age, dtype: float64\n"
          ]
        }
      ]
    },
    {
      "cell_type": "code",
      "source": [
        "# Display information about text-based columns\n",
        "text_columns = df.select_dtypes(include='object').columns\n",
        "print(\"Text-based Columns:\\n\", text_columns)\n",
        "\n",
        "# Loop through each text-based column and examine for special characters\n",
        "for column in text_columns:\n",
        "    print(f\"\\nExamining {column} column:\")\n",
        "\n",
        "    # Check for special characters or inconsistencies\n",
        "    for index, value in df[column].items():\n",
        "        # Example: Check for non-alphanumeric characters\n",
        "        if any(char.isalnum() for char in str(value)):\n",
        "            continue\n",
        "        else:\n",
        "            print(f\"Row {index}: Special character found - {value}\")\n",
        "\n",
        "    # Clean the column (replace or remove special characters)\n",
        "    # Example: Remove non-alphanumeric characters\n",
        "    df[column] = df[column].apply(lambda x: ''.join(char for char in str(x) if char.isalnum() or char.isspace()))\n",
        "\n",
        "# Display the cleaned DataFrame\n",
        "print(\"\\nCleaned DataFrame:\\n\", df)\n"
      ],
      "metadata": {
        "colab": {
          "base_uri": "https://localhost:8080/"
        },
        "id": "B2ApB8_lVtHD",
        "outputId": "8894aa0b-4658-4281-fd50-cf17e22eb0cc"
      },
      "execution_count": 46,
      "outputs": [
        {
          "output_type": "stream",
          "name": "stdout",
          "text": [
            "Text-based Columns:\n",
            " Index(['Location'], dtype='object')\n",
            "\n",
            "Examining Location column:\n",
            "\n",
            "Cleaned DataFrame:\n",
            "     Index   Age  Salary  Rating       Location  Established  Easy Apply\n",
            "0       0  44.0     NaN     5.4        INDIAIN         1999         NaN\n",
            "1       1  66.0     NaN     3.5     NEW YORKNY         2002         NaN\n",
            "2       2   NaN     NaN    -1.0     NEW YORKNY           -1         NaN\n",
            "3       3  64.0     NaN     4.4       INDIA IN         1988         NaN\n",
            "4       4  25.0     NaN     6.4  AUSTRALIA AUS         2002         NaN\n",
            "5       5  44.0     NaN     1.4        INDIAIN         1999         NaN\n",
            "6       6  21.0     NaN     0.0     NEW YORKNY           -1         NaN\n",
            "7       7  44.0     NaN    -1.0  AUSTRALIA AUS           -1         NaN\n",
            "8       8  35.0     NaN     5.4     NEW YORKNY           -1         NaN\n",
            "9       9  22.0     NaN     7.7        INDIAIN           -1         NaN\n",
            "10     10  55.0     NaN     5.4        INDIAIN         2008         NaN\n",
            "11     11  44.0     NaN     6.7        INDIAIN         2009         NaN\n",
            "12     12   NaN     NaN     0.0        INDIAIN         1999         NaN\n",
            "13     13  25.0     NaN    -1.0  AUSTRALIA AUS         2019         NaN\n",
            "14     14  66.0     NaN     4.0  AUSTRALIA AUS         2020         NaN\n",
            "15     15  44.0     NaN     3.0  AUSTRALIA AUS         1999         NaN\n",
            "16     16  19.0     NaN     4.5        INDIAIN         1984         NaN\n",
            "17     17   NaN     NaN     5.3     NEW YORKNY         1943         NaN\n",
            "18     18  35.0     NaN     6.7     NEW YORKNY         1954         NaN\n",
            "19     19  32.0     NaN     3.3     NEW YORKNY         1955         NaN\n",
            "20     20   NaN     NaN     5.7     NEW YORKNY         1944         NaN\n",
            "21     21  35.0     NaN     5.0     NEW YORKNY         1946         NaN\n",
            "22     22  19.0     NaN     7.8     NEW YORKNY         1988         NaN\n",
            "23     23   NaN     NaN     2.4     NEW YORKNY         1999         NaN\n",
            "24     24  13.0     NaN    -1.0     NEW YORKNY         1987         NaN\n",
            "25     25  55.0     NaN     0.0  AUSTRALIA AUS         1980         NaN\n",
            "26     26   NaN     NaN     NaN        INDIAIN         1934         NaN\n",
            "27     27  52.0     NaN     5.4        INDIAIN         1935         NaN\n",
            "28     28   NaN     NaN     3.4  AUSTRALIA AUS         1932         NaN\n"
          ]
        }
      ]
    },
    {
      "cell_type": "code",
      "source": [
        "# Check for inconsistencies between the \"Established\" and \"Age\" columns\n",
        "inconsistencies = df[df['Established'].notnull() & df['Age'].notnull() & (df['Established'] != df['Age'])]\n",
        "\n",
        "# Display rows with inconsistencies\n",
        "print(\"Rows with inconsistencies between Established and Age columns:\\n\", inconsistencies)\n"
      ],
      "metadata": {
        "colab": {
          "base_uri": "https://localhost:8080/"
        },
        "id": "V-e-EXQ5V74Q",
        "outputId": "e2dcb3c4-0d86-4ae8-9b3a-8138c05ac907"
      },
      "execution_count": 47,
      "outputs": [
        {
          "output_type": "stream",
          "name": "stdout",
          "text": [
            "Rows with inconsistencies between Established and Age columns:\n",
            "     Index   Age  Salary  Rating       Location  Established  Easy Apply\n",
            "0       0  44.0     NaN     5.4        INDIAIN         1999         NaN\n",
            "1       1  66.0     NaN     3.5     NEW YORKNY         2002         NaN\n",
            "3       3  64.0     NaN     4.4       INDIA IN         1988         NaN\n",
            "4       4  25.0     NaN     6.4  AUSTRALIA AUS         2002         NaN\n",
            "5       5  44.0     NaN     1.4        INDIAIN         1999         NaN\n",
            "6       6  21.0     NaN     0.0     NEW YORKNY           -1         NaN\n",
            "7       7  44.0     NaN    -1.0  AUSTRALIA AUS           -1         NaN\n",
            "8       8  35.0     NaN     5.4     NEW YORKNY           -1         NaN\n",
            "9       9  22.0     NaN     7.7        INDIAIN           -1         NaN\n",
            "10     10  55.0     NaN     5.4        INDIAIN         2008         NaN\n",
            "11     11  44.0     NaN     6.7        INDIAIN         2009         NaN\n",
            "13     13  25.0     NaN    -1.0  AUSTRALIA AUS         2019         NaN\n",
            "14     14  66.0     NaN     4.0  AUSTRALIA AUS         2020         NaN\n",
            "15     15  44.0     NaN     3.0  AUSTRALIA AUS         1999         NaN\n",
            "16     16  19.0     NaN     4.5        INDIAIN         1984         NaN\n",
            "18     18  35.0     NaN     6.7     NEW YORKNY         1954         NaN\n",
            "19     19  32.0     NaN     3.3     NEW YORKNY         1955         NaN\n",
            "21     21  35.0     NaN     5.0     NEW YORKNY         1946         NaN\n",
            "22     22  19.0     NaN     7.8     NEW YORKNY         1988         NaN\n",
            "24     24  13.0     NaN    -1.0     NEW YORKNY         1987         NaN\n",
            "25     25  55.0     NaN     0.0  AUSTRALIA AUS         1980         NaN\n",
            "27     27  52.0     NaN     5.4        INDIAIN         1935         NaN\n"
          ]
        }
      ]
    },
    {
      "cell_type": "code",
      "source": [
        "# Display unique values in the \"Easy Apply\" column\n",
        "unique_values_easy_apply = df['Easy Apply'].unique()\n",
        "print(\"Unique Values in Easy Apply Column:\\n\", unique_values_easy_apply)\n",
        "\n",
        "# Convert \"True\" and \"False\" strings to boolean values\n",
        "df['Easy Apply'] = df['Easy Apply'].map({'True': True, 'False': False})\n",
        "\n",
        "# Display the updated DataFrame\n",
        "print(\"\\nUpdated DataFrame:\\n\", df)\n"
      ],
      "metadata": {
        "colab": {
          "base_uri": "https://localhost:8080/"
        },
        "id": "58jlFLmNWFU3",
        "outputId": "5826832f-b621-4094-d493-f0f83642ef54"
      },
      "execution_count": 48,
      "outputs": [
        {
          "output_type": "stream",
          "name": "stdout",
          "text": [
            "Unique Values in Easy Apply Column:\n",
            " [nan]\n",
            "\n",
            "Updated DataFrame:\n",
            "     Index   Age  Salary  Rating       Location  Established Easy Apply\n",
            "0       0  44.0     NaN     5.4        INDIAIN         1999        NaN\n",
            "1       1  66.0     NaN     3.5     NEW YORKNY         2002        NaN\n",
            "2       2   NaN     NaN    -1.0     NEW YORKNY           -1        NaN\n",
            "3       3  64.0     NaN     4.4       INDIA IN         1988        NaN\n",
            "4       4  25.0     NaN     6.4  AUSTRALIA AUS         2002        NaN\n",
            "5       5  44.0     NaN     1.4        INDIAIN         1999        NaN\n",
            "6       6  21.0     NaN     0.0     NEW YORKNY           -1        NaN\n",
            "7       7  44.0     NaN    -1.0  AUSTRALIA AUS           -1        NaN\n",
            "8       8  35.0     NaN     5.4     NEW YORKNY           -1        NaN\n",
            "9       9  22.0     NaN     7.7        INDIAIN           -1        NaN\n",
            "10     10  55.0     NaN     5.4        INDIAIN         2008        NaN\n",
            "11     11  44.0     NaN     6.7        INDIAIN         2009        NaN\n",
            "12     12   NaN     NaN     0.0        INDIAIN         1999        NaN\n",
            "13     13  25.0     NaN    -1.0  AUSTRALIA AUS         2019        NaN\n",
            "14     14  66.0     NaN     4.0  AUSTRALIA AUS         2020        NaN\n",
            "15     15  44.0     NaN     3.0  AUSTRALIA AUS         1999        NaN\n",
            "16     16  19.0     NaN     4.5        INDIAIN         1984        NaN\n",
            "17     17   NaN     NaN     5.3     NEW YORKNY         1943        NaN\n",
            "18     18  35.0     NaN     6.7     NEW YORKNY         1954        NaN\n",
            "19     19  32.0     NaN     3.3     NEW YORKNY         1955        NaN\n",
            "20     20   NaN     NaN     5.7     NEW YORKNY         1944        NaN\n",
            "21     21  35.0     NaN     5.0     NEW YORKNY         1946        NaN\n",
            "22     22  19.0     NaN     7.8     NEW YORKNY         1988        NaN\n",
            "23     23   NaN     NaN     2.4     NEW YORKNY         1999        NaN\n",
            "24     24  13.0     NaN    -1.0     NEW YORKNY         1987        NaN\n",
            "25     25  55.0     NaN     0.0  AUSTRALIA AUS         1980        NaN\n",
            "26     26   NaN     NaN     NaN        INDIAIN         1934        NaN\n",
            "27     27  52.0     NaN     5.4        INDIAIN         1935        NaN\n",
            "28     28   NaN     NaN     3.4  AUSTRALIA AUS         1932        NaN\n"
          ]
        }
      ]
    },
    {
      "cell_type": "code",
      "source": [
        "# Display unique values in the \"Location\" column\n",
        "unique_locations = df['Location'].unique()\n",
        "print(\"Unique Locations:\\n\", unique_locations)\n",
        "\n",
        "# Visualize the distribution of locations\n",
        "location_counts = df['Location'].value_counts()\n",
        "\n",
        "# Plot the top 20 locations for better visibility\n",
        "plt.figure(figsize=(12, 6))\n",
        "location_counts.head(20).plot(kind='bar', color='skyblue')\n",
        "plt.title(\"Top 20 Locations\")\n",
        "plt.xlabel(\"Location\")\n",
        "plt.ylabel(\"Count\")\n",
        "plt.show()\n"
      ],
      "metadata": {
        "colab": {
          "base_uri": "https://localhost:8080/",
          "height": 606
        },
        "id": "UnChXzGuWSPB",
        "outputId": "7e61133f-6404-4cca-d1e1-afa48bc30916"
      },
      "execution_count": 49,
      "outputs": [
        {
          "output_type": "stream",
          "name": "stdout",
          "text": [
            "Unique Locations:\n",
            " ['INDIAIN' 'NEW YORKNY' 'INDIA IN' 'AUSTRALIA AUS']\n"
          ]
        },
        {
          "output_type": "display_data",
          "data": {
            "text/plain": [
              "<Figure size 1200x600 with 1 Axes>"
            ],
            "image/png": "[encoded data removed]"
          },
          "metadata": {}
        }
      ]
    },
    {
      "cell_type": "code",
      "source": [
        "from sklearn.preprocessing import LabelEncoder\n",
        "# Display unique values in a categorical column (replace 'your_column' with the actual column name)\n",
        "categorical_column = 'Age'\n",
        "unique_values = df[categorical_column].unique()\n",
        "print(f\"Unique values in {categorical_column}:\\n\", unique_values)\n",
        "\n",
        "# Use LabelEncoder to transform categorical values into numerical labels\n",
        "label_encoder = LabelEncoder()\n",
        "df[categorical_column + '_encoded'] = label_encoder.fit_transform(df[categorical_column])\n",
        "\n",
        "# Display the updated DataFrame with the encoded column\n",
        "print(\"\\nUpdated DataFrame with Label Encoding:\\n\", df)\n"
      ],
      "metadata": {
        "colab": {
          "base_uri": "https://localhost:8080/"
        },
        "id": "DqB-vjzIWfbL",
        "outputId": "9912200b-8d43-4b82-8c2a-9feea0677c7c"
      },
      "execution_count": 51,
      "outputs": [
        {
          "output_type": "stream",
          "name": "stdout",
          "text": [
            "Unique values in Age:\n",
            " [44. 66. nan 64. 25. 21. 35. 22. 55. 19. 32. 13. 52.]\n",
            "\n",
            "Updated DataFrame with Label Encoding:\n",
            "     Index   Age  Salary  Rating       Location  Established Easy Apply  \\\n",
            "0       0  44.0     NaN     5.4        INDIAIN         1999        NaN   \n",
            "1       1  66.0     NaN     3.5     NEW YORKNY         2002        NaN   \n",
            "2       2   NaN     NaN    -1.0     NEW YORKNY           -1        NaN   \n",
            "3       3  64.0     NaN     4.4       INDIA IN         1988        NaN   \n",
            "4       4  25.0     NaN     6.4  AUSTRALIA AUS         2002        NaN   \n",
            "5       5  44.0     NaN     1.4        INDIAIN         1999        NaN   \n",
            "6       6  21.0     NaN     0.0     NEW YORKNY           -1        NaN   \n",
            "7       7  44.0     NaN    -1.0  AUSTRALIA AUS           -1        NaN   \n",
            "8       8  35.0     NaN     5.4     NEW YORKNY           -1        NaN   \n",
            "9       9  22.0     NaN     7.7        INDIAIN           -1        NaN   \n",
            "10     10  55.0     NaN     5.4        INDIAIN         2008        NaN   \n",
            "11     11  44.0     NaN     6.7        INDIAIN         2009        NaN   \n",
            "12     12   NaN     NaN     0.0        INDIAIN         1999        NaN   \n",
            "13     13  25.0     NaN    -1.0  AUSTRALIA AUS         2019        NaN   \n",
            "14     14  66.0     NaN     4.0  AUSTRALIA AUS         2020        NaN   \n",
            "15     15  44.0     NaN     3.0  AUSTRALIA AUS         1999        NaN   \n",
            "16     16  19.0     NaN     4.5        INDIAIN         1984        NaN   \n",
            "17     17   NaN     NaN     5.3     NEW YORKNY         1943        NaN   \n",
            "18     18  35.0     NaN     6.7     NEW YORKNY         1954        NaN   \n",
            "19     19  32.0     NaN     3.3     NEW YORKNY         1955        NaN   \n",
            "20     20   NaN     NaN     5.7     NEW YORKNY         1944        NaN   \n",
            "21     21  35.0     NaN     5.0     NEW YORKNY         1946        NaN   \n",
            "22     22  19.0     NaN     7.8     NEW YORKNY         1988        NaN   \n",
            "23     23   NaN     NaN     2.4     NEW YORKNY         1999        NaN   \n",
            "24     24  13.0     NaN    -1.0     NEW YORKNY         1987        NaN   \n",
            "25     25  55.0     NaN     0.0  AUSTRALIA AUS         1980        NaN   \n",
            "26     26   NaN     NaN     NaN        INDIAIN         1934        NaN   \n",
            "27     27  52.0     NaN     5.4        INDIAIN         1935        NaN   \n",
            "28     28   NaN     NaN     3.4  AUSTRALIA AUS         1932        NaN   \n",
            "\n",
            "    Age_encoded  \n",
            "0             7  \n",
            "1            11  \n",
            "2            12  \n",
            "3            10  \n",
            "4             4  \n",
            "5             7  \n",
            "6             2  \n",
            "7             7  \n",
            "8             6  \n",
            "9             3  \n",
            "10            9  \n",
            "11            7  \n",
            "12           12  \n",
            "13            4  \n",
            "14           11  \n",
            "15            7  \n",
            "16            1  \n",
            "17           12  \n",
            "18            6  \n",
            "19            5  \n",
            "20           12  \n",
            "21            6  \n",
            "22            1  \n",
            "23           12  \n",
            "24            0  \n",
            "25            9  \n",
            "26           12  \n",
            "27            8  \n",
            "28           12  \n"
          ]
        }
      ]
    },
    {
      "cell_type": "code",
      "source": [
        "# Display unique values in the \"Rating\" column\n",
        "unique_ratings = df['Rating'].unique()\n",
        "print(\"Unique Ratings:\\n\", unique_ratings)\n",
        "\n",
        "# Assess the current rating scale and determine if normalization or adjustment is needed\n",
        "# Example: If ratings are on a different scale (e.g., 1-10 and 1-5), you might want to normalize them.\n",
        "\n",
        "# Normalize ratings to a common scale (e.g., 0-10)\n",
        "min_rating = df['Rating'].min()\n",
        "max_rating = df['Rating'].max()\n",
        "df['Normalized_Rating'] = ((df['Rating'] - min_rating) / (max_rating - min_rating)) * 10\n",
        "\n",
        "# Display the updated DataFrame with normalized ratings\n",
        "print(\"\\nUpdated DataFrame with Normalized Ratings:\\n\", df[['Rating', 'Normalized_Rating']])\n"
      ],
      "metadata": {
        "colab": {
          "base_uri": "https://localhost:8080/"
        },
        "id": "N_hAQqRcXAKr",
        "outputId": "be54e963-6089-4ce7-af4f-d8a5ba4b33e7"
      },
      "execution_count": 52,
      "outputs": [
        {
          "output_type": "stream",
          "name": "stdout",
          "text": [
            "Unique Ratings:\n",
            " [ 5.4  3.5 -1.   4.4  6.4  1.4  0.   7.7  6.7  4.   3.   4.5  5.3  3.3\n",
            "  5.7  5.   7.8  2.4  nan  3.4]\n",
            "\n",
            "Updated DataFrame with Normalized Ratings:\n",
            "     Rating  Normalized_Rating\n",
            "0      5.4           7.272727\n",
            "1      3.5           5.113636\n",
            "2     -1.0           0.000000\n",
            "3      4.4           6.136364\n",
            "4      6.4           8.409091\n",
            "5      1.4           2.727273\n",
            "6      0.0           1.136364\n",
            "7     -1.0           0.000000\n",
            "8      5.4           7.272727\n",
            "9      7.7           9.886364\n",
            "10     5.4           7.272727\n",
            "11     6.7           8.750000\n",
            "12     0.0           1.136364\n",
            "13    -1.0           0.000000\n",
            "14     4.0           5.681818\n",
            "15     3.0           4.545455\n",
            "16     4.5           6.250000\n",
            "17     5.3           7.159091\n",
            "18     6.7           8.750000\n",
            "19     3.3           4.886364\n",
            "20     5.7           7.613636\n",
            "21     5.0           6.818182\n",
            "22     7.8          10.000000\n",
            "23     2.4           3.863636\n",
            "24    -1.0           0.000000\n",
            "25     0.0           1.136364\n",
            "26     NaN                NaN\n",
            "27     5.4           7.272727\n",
            "28     3.4           5.000000\n"
          ]
        }
      ]
    }
  ]
}